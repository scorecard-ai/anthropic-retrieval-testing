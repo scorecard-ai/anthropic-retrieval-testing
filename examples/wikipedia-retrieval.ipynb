{
 "cells": [
  {
   "attachments": {},
   "cell_type": "markdown",
   "metadata": {},
   "source": [
    "# Wikipedia Retrieval with Claude\n",
    "\n",
    "This notebook provides a step-by-step guide for using the Wikipedia search tool with Claude. We will:\n",
    "\n",
    "1. Set up the environment and imports\n",
    "2. Build a search tool to query the Wikipedia API\n",
    "3. Test the search tool  \n",
    "4. Create a Claude client with access to the tool \n",
    "5. Compare Claude's responses with and without access to the tool\n",
    "\n",
    "## Imports and Configuration \n",
    "\n",
    "First we'll import libraries and load environment variables. This includes setting up logging so we can monitor the process."
   ]
  },
  {
   "cell_type": "code",
   "execution_count": 1,
   "metadata": {
    "vscode": {
     "languageId": "python"
    }
   },
   "outputs": [
    {
     "data": {
      "text/plain": [
       "True"
      ]
     },
     "execution_count": 1,
     "metadata": {},
     "output_type": "execute_result"
    }
   ],
   "source": [
    "import os\n",
    "import sys\n",
    "import dotenv\n",
    "import anthropic\n",
    "\n",
    "sys.path.append(os.path.abspath(os.path.join(os.getcwd(), os.pardir)))\n",
    "\n",
    "import claude_retriever\n",
    "\n",
    "# Load environment variables\n",
    "dotenv.load_dotenv()"
   ]
  },
  {
   "cell_type": "code",
   "execution_count": 2,
   "metadata": {
    "vscode": {
     "languageId": "python"
    }
   },
   "outputs": [],
   "source": [
    "# Import and configure logging \n",
    "import logging\n",
    "logger = logging.getLogger()\n",
    "logger.setLevel(logging.INFO)\n",
    "\n",
    "# Create a handler to log to stdout\n",
    "handler = logging.StreamHandler(sys.stdout)\n",
    "handler.setFormatter(logging.Formatter('%(asctime)s - %(name)s - %(levelname)s - %(message)s'))\n",
    "logger.addHandler(handler)"
   ]
  },
  {
   "attachments": {},
   "cell_type": "markdown",
   "metadata": {},
   "source": [
    "## Make a Wikipedia Search Tool"
   ]
  },
  {
   "attachments": {},
   "cell_type": "markdown",
   "metadata": {},
   "source": [
    "After importing the WikipediaSearchTool class, we can easily initalize a new WikipediaSearchTool object.\n",
    "\n",
    "Let's test the search tool to make sure it works:"
   ]
  },
  {
   "cell_type": "code",
   "execution_count": 3,
   "metadata": {
    "vscode": {
     "languageId": "python"
    }
   },
   "outputs": [
    {
     "name": "stdout",
     "output_type": "stream",
     "text": [
      "\n",
      "<search_results>\n",
      "<item index=\"1\">\n",
      "<page_content>\n",
      "Page Title: Room-temperature superconductor\n",
      "Page Content:\n",
      "A room-temperature superconductor is a material capable of displaying superconductivity at temperatures above 0 °C (273 K; 32 °F), which are commonly encountered in everyday settings. As of 2023, the material with the highest accepted superconducting temperature was highly pressurized lanthanum decahydride, whose transition temperature is approximately 250 K (−23 °C) at 200 GPa.At standard atmospheric pressure, cuprates currently hold the temperature record, manifesting superconductivity at temperatures as high as 138 K (−135 °C). Over time, researchers have consistently encountered superconductivity at temperatures previously considered unexpected or impossible, challenging the notion that achieving superconductivity at room temperature was unfeasible. The concept of \"near-room temperature\" transient effects has been a subject of discussion since the early 1950s.\n",
      "\n",
      "\n",
      "== Significance ==\n",
      "The discovery of a room-temperature superconductor would have enormous technological significance. It has the potential to address global energy challenges, enhance computing speed, enable innovative memory-storage devices, and create highly sensitive sensors, among a multitude of other possibilities.\n",
      "\n",
      "\n",
      "== Reports ==\n",
      "Since the discovery of high-temperature superconductors (\"high\" being temperatures above 77 K (−196.2 °C; −321.1 °F), the boiling point of liquid nitrogen), several materials have been reported to be room-temperature superconductors, although most of these reports have not been confirmed.\n",
      "\n",
      "\n",
      "=== Corroborated studies ===\n",
      "In 2014, an article published in Nature suggested that some materials, notably YBCO (yttrium barium copper oxide), could be made to briefly superconduct at room temperature using infrared laser pulses.In 2015, an article published in Nature by researchers of the Otto Hahn Institute suggested that under certain conditions such as extreme pressure H2S transitioned to a superconductive form H3S at 150 GPa (around 1.5 million times atmospheric pressure) in a diamond anvil cell. The critical temperature is 203 K (−70 °C) which would be the highest Tc ever recorded and their research suggests that other hydrogen compounds could superconduct at up to 260 K (−13 °C).Also in 2018, researchers noted a possible superconducting phase at 260 K (−13 °C) in lanthanum decahydride (LaH10) at elevated (200 GPa) pressure. In 2019, the material with the highest accepted superconducting temperature was highly pressurized lanthanum decahydride, whose transition temperature is approximately 250 K (−23 °C).\n",
      "\n",
      "\n",
      "=== Uncorroborated studies ===\n",
      "In 2000, while extracting electrons from diamond during ion implantation work, Johan Prins claimed to have observed a phenomenon that he explained as room-temperature superconductivity within a phase formed on the surface of oxygen-doped type IIa diamonds in a 10−6 mbar vacuum.In 2003, a group of researchers published results on high-temperature superconductivity in palladium hydride (PdHx: x>1) and an explanation in 2004. In 2007, the same group published results suggesting a superconducting transition temperature of 260 K. The superconducting critical temperature increases as the density of hydrogen inside the palladium lattice increases. This work has not been corroborated by other groups.\n",
      "In March 2021, an announcement reported room-temperature superconductivity in a layered yttrium-palladium-hydron material at 262 K and a pressure of 187 GPa.\n",
      "Palladium may act as a hydrogen migration catalyst in the material.On July 23, 2023, a Korean team claimed that they had observed room-temperature ambient superconductivity in Cu-doped lead apatite, which they named LK-99. They posted two preprints to arXiv,  published a paper in a journal, and submitted a patent application. The reported observations were received with skepticism by multiple experts due to the lack of clear signatures of superconductivity. The story was widely discussed on social media, leading to a large number of attempted replications. However, after a couple weeks, a series of papers from different teams provided significant evidence that LK-99 was not a superconductor, finding resistivity much higher than copper, and explaining effects such as levitation as coming from ferromagnetism discovered in the material.\n",
      "\n",
      "\n",
      "=== Retracted or unreliable studies ===\n",
      "In 2012, an Advanced Materials article claimed superconducting behavior of graphite powder after treatment with pure water at temperatures as high as 300 K and above. So far, the authors have not been able to demonstrate the occurrence of a clear Meissner phase and the vanishing of the material's resistance.\n",
      "In 2018, Dev Kumar Thapa and Anshu Pandey from the Solid State and Structural Chemistry Unit of the Indian Institute of Science, Bangalore claimed the observation of superconductivity at ambient pressure and room temperature in films and pellets of a nanostructured material that is composed of silver particles embedded in a gold matrix. Due to similar noise patterns of supposedly independent plots and the publication's lack of peer review, the results have been called into question. Although the researchers repeated their findings in a later paper in 2019, this claim is yet to be verified and confirmed.Since 2016, a team led by Ranga P. Dias has produced a number of retracted or challenged papers in this field. In 2016 they claimed observation of solid metallic hydrogen in 2016. In October 2020, they reported room-temperature superconductivity at 288 K (at 15 °C) in a carbonaceous sulfur hydride at 267 GPa, triggered into crystallisation via green laser. This was retracted in 2022 after flaws in their statistical methods were identified and led to questioning of other data.  In 2023 he reported superconductivity at 294 K and 1 GPa in nitrogen-doped lutetium hydride, in a paper widely met with skepticism about its methods and data. Later in 2023 he was found to have plagiarized parts of his dissertation from someone else's thesis, and to have fabricated data in a paper on manganese disulfide, which was retracted. The lutetium hydride paper is also being reviewed for retraction. The first attempts to replicate those results failed.\n",
      "\n",
      "\n",
      "== Theories ==\n",
      "Metallic hydrogen and phonon-mediated pairing: \n",
      "Theoretical work by British physicist Neil Ashcroft predicted that solid metallic hydrogen at extremely high pressure (~500 GPa) should become superconducting at approximately room temperature, due to its extremely high speed of sound and expected strong coupling between the conduction electrons and the lattice-vibration phonons.A team at Harvard University has claimed to make metallic hydrogen and reports a pressure of 495 GPa. Though the exact critical temperature has not yet been determined, weak signs of a possible Meissner effect and changes in magnetic susceptibility at 250 K may have appeared in early magnetometer tests on an original now-lost sample. A French team is working with doughnut shapes rather than planar at the diamond culette tips.Organic polymers and exciton-mediated pairing:\n",
      "In 1964, William A. Little proposed the possibility of high-temperature superconductivity in organic polymers.Other hydrides:\n",
      "In 2004, Ashcroft returned to his idea and suggested that hydrogen-rich compounds can become metallic and superconducting at lower pressures than hydrogen. More specifically, he proposed a novel way to pre-compress hydrogen chemically by examining IVa hydrides.In 2014-2015, conventional superconductivity was observed in a sulfur hydride system (H2S or H3S) at 190K-203K at pressures of up to 200 GPa.\n",
      "In 2016, research suggested a link between palladium hydride containing small impurities of sulfur nanoparticles as a plausible explanation for the anomalous transient resistance drops seen during some experiments, and hydrogen absorption by cuprates was suggested in light of the 2015 results in H2S as a plausible explanation for transient resistance drops or \"USO\" noticed in the 1990s by Chu et al. during research after the discovery of YBCO.It has been predicted that ScH12 (scandium dodedecahydride) would exhibit superconductivity at room temperature – Tc between 333 K (60 °C) and 398 K (125 °C) – under a pressure expected not to exceed 100 GPa.Some research efforts are currently moving towards ternary superhydrides, where it has been predicted that Li2MgH16 (bilithium magnesium hexadecahydride) would have a Tc of 473 K (200 °C) at 250 GPaSpin coupling:\n",
      "It is also possible that if the bipolaron explanation is correct, a normally semiconducting material can transition under some conditions into a superconductor if a critical level of alternating spin coupling in a single plane within the lattice is exceeded; this may have been documented in very early experiments from 1986. The best analogy here would be anisotropic magnetoresistance, but in this case the outcome is a drop to zero rather than a decrease within a very narrow temperature range for the compounds tested similar to \"re-entrant superconductivity\".In 2018, support was found for electrons having anomalous 3/2 spin states in YPtBi. Though YPtBi is a relatively low temperature superconductor, this does suggest another approach to creating superconductors.\n",
      "\n",
      "\n",
      "== References ==\n",
      "</page_content>\n",
      "</item>\n",
      "</search_results>\n"
     ]
    }
   ],
   "source": [
    "from claude_retriever.searcher.searchtools.wikipedia import WikipediaSearchTool\n",
    "\n",
    "# Create a searcher\n",
    "wikipedia_search_tool = WikipediaSearchTool()\n",
    "\n",
    "# Run a test query\n",
    "query = \"LK-99\"\n",
    "\n",
    "results = wikipedia_search_tool.search(query, n_search_results_to_use=1)\n",
    "print(results)"
   ]
  },
  {
   "attachments": {},
   "cell_type": "markdown",
   "metadata": {},
   "source": [
    "## Use Claude with Retrieval"
   ]
  },
  {
   "attachments": {},
   "cell_type": "markdown",
   "metadata": {},
   "source": [
    "Now we simply pass the search tool to a Claude client, allowing Claude access to use it when generating responses. "
   ]
  },
  {
   "cell_type": "code",
   "execution_count": 4,
   "metadata": {
    "vscode": {
     "languageId": "python"
    }
   },
   "outputs": [],
   "source": [
    "ANTHROPIC_SEARCH_MODEL = \"claude-2\"\n",
    "\n",
    "client = claude_retriever.ClientWithRetrieval(api_key=os.environ['ANTHROPIC_API_KEY'], verbose=True, search_tool = wikipedia_search_tool)\n",
    "\n",
    "query = \"Can you explain what LK-99 is?\"\n",
    "prompt = f'{anthropic.HUMAN_PROMPT} {query}{anthropic.AI_PROMPT}'"
   ]
  },
  {
   "attachments": {},
   "cell_type": "markdown",
   "metadata": {},
   "source": [
    "Here is the basic response to the query (no access to the tool)."
   ]
  },
  {
   "cell_type": "code",
   "execution_count": 5,
   "metadata": {
    "vscode": {
     "languageId": "python"
    }
   },
   "outputs": [
    {
     "name": "stdout",
     "output_type": "stream",
     "text": [
      "2023-08-28 17:06:21,573 - httpx - INFO - HTTP Request: POST https://api.anthropic.com/v1/complete \"HTTP/1.1 200 OK\"\n",
      "--------------------------------------------------\n",
      "Basic response:\n",
      "\n",
      "\n",
      "Human: Can you explain what LK-99 is?\n",
      "\n",
      "Assistant: Unfortunately I do not have enough context to fully explain what \"LK-99\" refers to specifically. LK-99 could potentially refer to:\n",
      "\n",
      "- A model number or product code for some type of technology product. Companies often use combinations of letters and numbers to identify specific models or SKUs.\n",
      "\n",
      "- A specific chemical compound or molecule used in scientific research. Researchers sometimes use alphanumerical codes to refer to compounds.\n",
      "\n",
      "- A location code or identifier, like a license plate number, product serial number, etc. \n",
      "\n",
      "- A coded reference to something classified or confidential. Without more context I can't determine what LK-99 denotes in this particular case.\n",
      "\n",
      "To provide a more detailed explanation, I would need additional context about where you saw this reference and what field it is related to. The meaning can vary a lot depending on the specifics. Please let me know if you can provide any more details!\n",
      "--------------------------------------------------\n"
     ]
    }
   ],
   "source": [
    "basic_response = client.completions.create(\n",
    "    prompt=prompt,\n",
    "    stop_sequences=[anthropic.HUMAN_PROMPT],\n",
    "    model=ANTHROPIC_SEARCH_MODEL,\n",
    "    max_tokens_to_sample=1000,\n",
    ")\n",
    "print('-'*50)\n",
    "print('Basic response:')\n",
    "print(prompt + basic_response.completion)\n",
    "print('-'*50)"
   ]
  },
  {
   "attachments": {},
   "cell_type": "markdown",
   "metadata": {},
   "source": [
    "\n",
    "Now let's try getting a completion from Claude equipped with the Wikipedia search tool."
   ]
  },
  {
   "cell_type": "code",
   "execution_count": 6,
   "metadata": {
    "vscode": {
     "languageId": "python"
    }
   },
   "outputs": [
    {
     "name": "stdout",
     "output_type": "stream",
     "text": [
      "2023-08-28 17:06:26,354 - httpx - INFO - HTTP Request: POST https://api.anthropic.com/v1/complete \"HTTP/1.1 200 OK\"\n",
      "2023-08-28 17:06:26,355 - claude_retriever.client - INFO -  <thinking>\n",
      "To answer what LK-99 is, I likely need to gather basic information on what it is, what it is used for, and any key details about its history or development. I should look for general overview information first before getting into specifics.\n",
      "</thinking>\n",
      "\n",
      "<search_query>LK-99\n",
      "2023-08-28 17:06:26,355 - claude_retriever.client - INFO - Attempting search number 0.\n",
      "2023-08-28 17:06:26,356 - claude_retriever.client - INFO - \n",
      "--------------------\n",
      "Pausing stream because Claude has issued a query in <search_query> tags: <search_query>LK-99</search_query>\n",
      "--------------------\n",
      "2023-08-28 17:06:26,356 - claude_retriever.client - INFO - Running search query against SearchTool: LK-99\n",
      "2023-08-28 17:06:26,801 - claude_retriever.client - INFO - \n",
      "--------------------\n",
      "The SearchTool has returned the following search results:\n",
      "\n",
      "\n",
      "<search_results>\n",
      "<item index=\"1\">\n",
      "<page_content>\n",
      "Page Title: Room-temperature superconductor\n",
      "Page Content:\n",
      "A room-temperature superconductor is a material capable of displaying superconductivity at temperatures above 0 °C (273 K; 32 °F), which are commonly encountered in everyday settings. As of 2023, the material with the highest accepted superconducting temperature was highly pressurized lanthanum decahydride, whose transition temperature is approximately 250 K (−23 °C) at 200 GPa.At standard atmospheric pressure, cuprates currently hold the temperature record, manifesting superconductivity at temperatures as high as 138 K (−135 °C). Over time, researchers have consistently encountered superconductivity at temperatures previously considered unexpected or impossible, challenging the notion that achieving superconductivity at room temperature was unfeasible. The concept of \"near-room temperature\" transient effects has been a subject of discussion since the early 1950s.\n",
      "\n",
      "\n",
      "== Significance ==\n",
      "The discovery of a room-temperature superconductor would have enormous technological significance. It has the potential to address global energy challenges, enhance computing speed, enable innovative memory-storage devices, and create highly sensitive sensors, among a multitude of other possibilities.\n",
      "\n",
      "\n",
      "== Reports ==\n",
      "Since the discovery of high-temperature superconductors (\"high\" being temperatures above 77 K (−196.2 °C; −321.1 °F), the boiling point of liquid nitrogen), several materials have been reported to be room-temperature superconductors, although most of these reports have not been confirmed.\n",
      "\n",
      "\n",
      "=== Corroborated studies ===\n",
      "In 2014, an article published in Nature suggested that some materials, notably YBCO (yttrium barium copper oxide), could be made to briefly superconduct at room temperature using infrared laser pulses.In 2015, an article published in Nature by researchers of the Otto Hahn Institute suggested that under certain conditions such as extreme pressure H2S transitioned to a superconductive form H3S at 150 GPa (around 1.5 million times atmospheric pressure) in a diamond anvil cell. The critical temperature is 203 K (−70 °C) which would be the highest Tc ever recorded and their research suggests that other hydrogen compounds could superconduct at up to 260 K (−13 °C).Also in 2018, researchers noted a possible superconducting phase at 260 K (−13 °C) in lanthanum decahydride (LaH10) at elevated (200 GPa) pressure. In 2019, the material with the highest accepted superconducting temperature was highly pressurized lanthanum decahydride, whose transition temperature is approximately 250 K (−23 °C).\n",
      "\n",
      "\n",
      "=== Uncorroborated studies ===\n",
      "In 2000, while extracting electrons from diamond during ion implantation work, Johan Prins claimed to have observed a phenomenon that he explained as room-temperature superconductivity within a phase formed on the surface of oxygen-doped type IIa diamonds in a 10−6 mbar vacuum.In 2003, a group of researchers published results on high-temperature superconductivity in palladium hydride (PdHx: x>1) and an explanation in 2004. In 2007, the same group published results suggesting a superconducting transition temperature of 260 K. The superconducting critical temperature increases as the density of hydrogen inside the palladium lattice increases. This work has not been corroborated by other groups.\n",
      "In March 2021, an announcement reported room-temperature superconductivity in a layered yttrium-palladium-hydron material at 262 K and a pressure of 187 GPa.\n",
      "Palladium may act as a hydrogen migration catalyst in the material.On July 23, 2023, a Korean team claimed that they had observed room-temperature ambient superconductivity in Cu-doped lead apatite, which they named LK-99. They posted two preprints to arXiv,  published a paper in a journal, and submitted a patent application. The reported observations were received with skepticism by multiple experts due to the lack of clear signatures of superconductivity. The story was widely discussed on social media, leading to a large number of attempted replications. However, after a couple weeks, a series of papers from different teams provided significant evidence that LK-99 was not a superconductor, finding resistivity much higher than copper, and explaining effects such as levitation as coming from ferromagnetism discovered in the material.\n",
      "\n",
      "\n",
      "=== Retracted or unreliable studies ===\n",
      "In 2012, an Advanced Materials article claimed superconducting behavior of graphite powder after treatment with pure water at temperatures as high as 300 K and above. So far, the authors have not been able to demonstrate the occurrence of a clear Meissner phase and the vanishing of the material's resistance.\n",
      "In 2018, Dev Kumar Thapa and Anshu Pandey from the Solid State and Structural Chemistry Unit of the Indian Institute of Science, Bangalore claimed the observation of superconductivity at ambient pressure and room temperature in films and pellets of a nanostructured material that is composed of silver particles embedded in a gold matrix. Due to similar noise patterns of supposedly independent plots and the publication's lack of peer review, the results have been called into question. Although the researchers repeated their findings in a later paper in 2019, this claim is yet to be verified and confirmed.Since 2016, a team led by Ranga P. Dias has produced a number of retracted or challenged papers in this field. In 2016 they claimed observation of solid metallic hydrogen in 2016. In October 2020, they reported room-temperature superconductivity at 288 K (at 15 °C) in a carbonaceous sulfur hydride at 267 GPa, triggered into crystallisation via green laser. This was retracted in 2022 after flaws in their statistical methods were identified and led to questioning of other data.  In 2023 he reported superconductivity at 294 K and 1 GPa in nitrogen-doped lutetium hydride, in a paper widely met with skepticism about its methods and data. Later in 2023 he was found to have plagiarized parts of his dissertation from someone else's thesis, and to have fabricated data in a paper on manganese disulfide, which was retracted. The lutetium hydride paper is also being reviewed for retraction. The first attempts to replicate those results failed.\n",
      "\n",
      "\n",
      "== Theories ==\n",
      "Metallic hydrogen and phonon-mediated pairing: \n",
      "Theoretical work by British physicist Neil Ashcroft predicted that solid metallic hydrogen at extremely high pressure (~500 GPa) should become superconducting at approximately room temperature, due to its extremely high speed of sound and expected strong coupling between the conduction electrons and the lattice-vibration phonons.A team at Harvard University has claimed to make metallic hydrogen and reports a pressure of 495 GPa. Though the exact critical temperature has not yet been determined, weak signs of a possible Meissner effect and changes in magnetic susceptibility at 250 K may have appeared in early magnetometer tests on an original now-lost sample. A French team is working with doughnut shapes rather than planar at the diamond culette tips.Organic polymers and exciton-mediated pairing:\n",
      "In 1964, William A. Little proposed the possibility of high-temperature superconductivity in organic polymers.Other hydrides:\n",
      "In 2004, Ashcroft returned to his idea and suggested that hydrogen-rich compounds can become metallic and superconducting at lower pressures than hydrogen. More specifically, he proposed a novel way to pre-compress hydrogen chemically by examining IVa hydrides.In 2014-2015, conventional superconductivity was observed in a sulfur hydride system (H2S or H3S) at 190K-203K at pressures of up to 200 GPa.\n",
      "In 2016, research suggested a link between palladium hydride containing small impurities of sulfur nanoparticles as a plausible explanation for the anomalous transient resistance drops seen during some experiments, and hydrogen absorption by cuprates was suggested in light of the 2015 results in H2S as a plausible explanation for transient resistance drops or \"USO\" noticed in the 1990s by Chu et al. during research after the discovery of YBCO.It has been predicted that ScH12 (scandium dodedecahydride) would exhibit superconductivity at room temperature – Tc between 333 K (60 °C) and 398 K (125 °C) – under a pressure expected not to exceed 100 GPa.Some research efforts are currently moving towards ternary superhydrides, where it has been predicted that Li2MgH16 (bilithium magnesium hexadecahydride) would have a Tc of 473 K (200 °C) at 250 GPaSpin coupling:\n",
      "It is also possible that if the bipolaron explanation is correct, a normally semiconducting material can transition under some conditions into a superconductor if a critical level of alternating spin coupling in a single plane within the lattice is exceeded; this may have been documented in very early experiments from 1986. The best analogy here would be anisotropic magnetoresistance, but in this case the outcome is a drop to zero rather than a decrease within a very narrow temperature range for the compounds tested similar to \"re-entrant superconductivity\".In 2018, support was found for electrons having anomalous 3/2 spin states in YPtBi. Though YPtBi is a relatively low temperature superconductor, this does suggest another approach to creating superconductors.\n",
      "\n",
      "\n",
      "== References ==\n",
      "</page_content>\n",
      "</item>\n",
      "</search_results>\n",
      "\n",
      "--------------------\n",
      "\n",
      "2023-08-28 17:06:39,316 - httpx - INFO - HTTP Request: POST https://api.anthropic.com/v1/complete \"HTTP/1.1 200 OK\"\n",
      "2023-08-28 17:06:39,319 - claude_retriever.client - INFO - \n",
      "\n",
      "<search_quality>\n",
      "The search results provide a good overview of what LK-99 is - a material that was briefly reported to be a room temperature superconductor but was then debunked. The results give background on room temperature superconductors in general, summarize the claims about LK-99 and the skepticism around it, and mention some attempted replications that failed to observe superconductivity. This provides enough context to understand the basic story around LK-99 and why the initial reports did not hold up to scrutiny. Additional details could be gathered if needed on the specific composition/structure of LK-99 or the peer review issues with the initial papers, but this seems sufficient to broadly answer what LK-99 is.\n",
      "</search_quality>\n",
      "2023-08-28 17:06:52,241 - httpx - INFO - HTTP Request: POST https://api.anthropic.com/v1/complete \"HTTP/1.1 200 OK\"\n",
      "--------------------------------------------------\n",
      "Augmented response:\n",
      "\n",
      "\n",
      "Human: Can you explain what LK-99 is?\n",
      "\n",
      "Assistant: Based on the Wikipedia search results, LK-99 refers to a material that a Korean team claimed to observe room-temperature ambient superconductivity in. Specifically:\n",
      "\n",
      "LK-99 is a material composed of Cu-doped lead apatite that a Korean team claimed to exhibit room-temperature ambient superconductivity. They posted preprints on arXiv, published a paper, and submitted a patent application about their reported discovery in July 2023. However, the claims were met with skepticism by experts due to the lack of clear evidence of superconductivity. After attempted replications by other teams, it was found that LK-99 did not actually demonstrate superconductivity, with resistivity much higher than copper. The effects like levitation were explained as coming from ferromagnetism in the material rather than superconductivity. So LK-99 appears to not be an actual room-temperature superconductor, despite the initial claims.\n",
      "--------------------------------------------------\n"
     ]
    }
   ],
   "source": [
    "augmented_response = client.completion_with_retrieval(\n",
    "    query=query,\n",
    "    model=ANTHROPIC_SEARCH_MODEL,\n",
    "    n_search_results_to_use=1,\n",
    "    max_searches_to_try=3,\n",
    "    max_tokens_to_sample=1000)\n",
    "\n",
    "print('-'*50)\n",
    "print('Augmented response:')\n",
    "print(prompt + augmented_response)\n",
    "print('-'*50)"
   ]
  }
 ],
 "metadata": {
  "kernelspec": {
   "display_name": "Coconut",
   "language": "coconut",
   "name": "coconut"
  },
  "language_info": {
   "codemirror_mode": {
    "name": "python",
    "version": 3
   },
   "file_extension": ".coco",
   "mimetype": "text/x-python3",
   "name": "coconut",
   "pygments_lexer": "coconut",
   "version": "2.2.0"
  },
  "orig_nbformat": 4
 },
 "nbformat": 4,
 "nbformat_minor": 2
}
