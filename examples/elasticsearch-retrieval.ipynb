{
 "cells": [
  {
   "attachments": {},
   "cell_type": "markdown",
   "metadata": {},
   "source": [
    "# Elasticsearch Retrieval with Claude\n",
    "\n",
    "This notebook provides a step-by-step guide for using the Elasticsearch search tool with Claude. We will:\n",
    "\n",
    "1. Set up the environment and imports\n",
    "2. Build a search tool to query an Elasticsearch instance\n",
    "3. Test the search tool  \n",
    "4. Create a Claude client with access to the tool \n",
    "5. Compare Claude's responses with and without access to the tool\n",
    "\n",
    "## Imports and Configuration \n",
    "\n",
    "First we'll import libraries and load environment variables. This includes setting up logging so we can monitor the process."
   ]
  },
  {
   "cell_type": "code",
   "execution_count": null,
   "metadata": {},
   "outputs": [],
   "source": [
    "import os\n",
    "import sys\n",
    "import dotenv\n",
    "import anthropic\n",
    "\n",
    "sys.path.append(os.path.abspath(os.path.join(os.getcwd(), os.pardir)))\n",
    "\n",
    "import claude_retriever\n",
    "\n",
    "# Load environment variables\n",
    "dotenv.load_dotenv()"
   ]
  },
  {
   "cell_type": "code",
   "execution_count": null,
   "metadata": {},
   "outputs": [],
   "source": [
    "# Import and configure logging \n",
    "import logging\n",
    "logger = logging.getLogger()\n",
    "logger.setLevel(logging.INFO)\n",
    "\n",
    "# Create a handler to log to stdout\n",
    "handler = logging.StreamHandler(sys.stdout)\n",
    "handler.setFormatter(logging.Formatter('%(asctime)s - %(name)s - %(levelname)s - %(message)s'))\n",
    "logger.addHandler(handler)"
   ]
  },
  {
   "attachments": {},
   "cell_type": "markdown",
   "metadata": {},
   "source": [
    "# Store your data"
   ]
  },
  {
   "attachments": {},
   "cell_type": "markdown",
   "metadata": {},
   "source": [
    "The first step is setting up your datastore. Here, we will make use of the [Kaggle Amazon Products 2020 Dataset](https://www.kaggle.com/datasets/promptcloud/amazon-product-dataset-2020). It contains 10000 products from Amazon, including their product title, description, price, category tags, etc. For the purposes of this notebook, we've pre-processed the data to concatenate the title, description and category tags into a single \"document\" field and saved it locally as a JSONL with one line for each product."
   ]
  },
  {
   "attachments": {},
   "cell_type": "markdown",
   "metadata": {},
   "source": [
    "We now need to transform this raw text dataset into an embedding dataset. In this notebook we will opt for the simplest possible way to do this locally:\n",
    "\n",
    "1. We will use the [sentence-transformers](https://www.sbert.net/index.html) library, which allows us to use a lightweight model to embed our text data using only a CPU if that is all we have available.\n",
    "2. We will save the text/embedding pairs on disk as a JSONL file that can be loaded in memory on the fly.\n",
    "\n",
    "Local methods like this work quite well for small datasets, but for larger datasets you may want to consider using a cloud-based method to both create the embeddings and store the vector datastore. These methods are covered in the [Remote Retrieval](remote-retrieval.ipynb) notebook."
   ]
  },
  {
   "cell_type": "code",
   "execution_count": null,
   "metadata": {},
   "outputs": [],
   "source": [
    "# Set up Elasticsearch and upload the data\n",
    "\n",
    "from elasticsearch import Elasticsearch\n",
    "\n",
    "cloud_id = os.getenv(\"ELASTICSEARCH_CLOUD_ID\")\n",
    "api_key_id = os.getenv(\"ELASTICSEARCH_API_KEY_ID\")\n",
    "api_key = os.getenv(\"ELASTICSEARCH_API_KEY\")\n",
    "\n",
    "index_name = \"amazon-products-database\"\n",
    "\n",
    "if cloud_id is None or api_key_id is None or api_key is None:\n",
    "    raise ValueError(\"ELASTICSEARCH_CLOUD_ID, ELASTICSEARCH_API_KEY_ID, and ELASTICSEARCH_API_KEY must be set as environment variables\")\n",
    "\n",
    "es = Elasticsearch(\n",
    "        cloud_id=cloud_id,\n",
    "        api_key=(api_key_id, api_key),\n",
    "    )\n",
    "    \n",
    "if not es.indices.exists(index=index_name):\n",
    "    from claude_retriever.utils import upload_to_elasticsearch\n",
    "    upload_to_elasticsearch(\n",
    "        input_file=\"data/amazon-products.jsonl\",\n",
    "        index_name=index_name,\n",
    "        cloud_id=cloud_id,\n",
    "        api_key_id=api_key_id,\n",
    "        api_key=api_key\n",
    "    )"
   ]
  },
  {
   "attachments": {},
   "cell_type": "markdown",
   "metadata": {},
   "source": [
    "# Create a Search Tool for your data"
   ]
  },
  {
   "attachments": {},
   "cell_type": "markdown",
   "metadata": {},
   "source": [
    "We now create a Search Tool, which can take queries and return formatted relevant results. We also need to describe what the search tool will return, which Claude will read to make sure it is correctly used."
   ]
  },
  {
   "cell_type": "code",
   "execution_count": null,
   "metadata": {},
   "outputs": [],
   "source": [
    "from claude_retriever.searcher.searchtools.elasticsearch import ElasticsearchCloudSearchTool\n",
    "\n",
    "AMAZON_SEARCH_TOOL_DESCRIPTION = 'The search engine will search over the Amazon Product database, and return for each product its title, description, and a set of tags.'\n",
    "amazon_search_tool = ElasticsearchCloudSearchTool(tool_description=AMAZON_SEARCH_TOOL_DESCRIPTION,\n",
    "                                                  elasticsearch_cloud_id=cloud_id,\n",
    "                                                  elasticsearch_api_key_id=api_key_id,\n",
    "                                                  elasticsearch_api_key=api_key,\n",
    "                                                  elasticsearch_index=index_name)"
   ]
  },
  {
   "attachments": {},
   "cell_type": "markdown",
   "metadata": {},
   "source": [
    "Let's test it to see if the tool works!"
   ]
  },
  {
   "cell_type": "code",
   "execution_count": null,
   "metadata": {},
   "outputs": [],
   "source": [
    "dinos = amazon_search_tool.search(\"fun kids dinosaur book\", n_search_results_to_use=3)\n",
    "print(dinos)"
   ]
  },
  {
   "attachments": {},
   "cell_type": "markdown",
   "metadata": {},
   "source": [
    "# Use Claude with Retrieval"
   ]
  },
  {
   "attachments": {},
   "cell_type": "markdown",
   "metadata": {},
   "source": [
    "We can now simply pass this search tool to Claude to use, much in the same way a person might."
   ]
  },
  {
   "cell_type": "code",
   "execution_count": null,
   "metadata": {},
   "outputs": [],
   "source": [
    "ANTHROPIC_SEARCH_MODEL = \"claude-2\"\n",
    "\n",
    "client = claude_retriever.ClientWithRetrieval(api_key=os.environ['ANTHROPIC_API_KEY'], search_tool = amazon_search_tool)\n",
    "\n",
    "query = \"I want to get my daughter more interested in science. What kind of gifts should I get her?\"\n",
    "prompt = f'{anthropic.HUMAN_PROMPT} {query}{anthropic.AI_PROMPT}'"
   ]
  },
  {
   "attachments": {},
   "cell_type": "markdown",
   "metadata": {},
   "source": [
    "Here is the basic response to the query (no access to the tool)."
   ]
  },
  {
   "cell_type": "code",
   "execution_count": null,
   "metadata": {},
   "outputs": [],
   "source": [
    "basic_response = client.completions.create(\n",
    "    prompt=prompt,\n",
    "    stop_sequences=[anthropic.HUMAN_PROMPT],\n",
    "    model=ANTHROPIC_SEARCH_MODEL,\n",
    "    max_tokens_to_sample=1000,\n",
    ")\n",
    "print('-'*50)\n",
    "print('Basic response:')\n",
    "print(prompt + basic_response.completion)\n",
    "print('-'*50)"
   ]
  },
  {
   "attachments": {},
   "cell_type": "markdown",
   "metadata": {},
   "source": [
    "Now we get the same completion, but give Claude the ability to use the tool when thinking about the response."
   ]
  },
  {
   "cell_type": "code",
   "execution_count": null,
   "metadata": {},
   "outputs": [],
   "source": [
    "augmented_response = client.completion_with_retrieval(\n",
    "    query=query,\n",
    "    model=ANTHROPIC_SEARCH_MODEL,\n",
    "    n_search_results_to_use=3,\n",
    "    max_tokens_to_sample=1000)\n",
    "\n",
    "print('-'*50)\n",
    "print('Augmented response:')\n",
    "print(prompt + augmented_response)\n",
    "print('-'*50)"
   ]
  },
  {
   "attachments": {},
   "cell_type": "markdown",
   "metadata": {},
   "source": [
    "Often, you'll want finer-grained control about how exactly Claude uses the results. For this workflow we recommend \"retrieve then complete\"."
   ]
  },
  {
   "cell_type": "code",
   "execution_count": null,
   "metadata": {},
   "outputs": [],
   "source": [
    "relevant_search_results = client.retrieve(\n",
    "    query=query,\n",
    "    stop_sequences=[anthropic.HUMAN_PROMPT, 'END_OF_SEARCH'],\n",
    "    model=ANTHROPIC_SEARCH_MODEL,\n",
    "    n_search_results_to_use=3,\n",
    "    max_searches_to_try=5,\n",
    "    max_tokens_to_sample=1000)\n",
    "\n",
    "print('-'*50)\n",
    "print('Relevant results:')\n",
    "print(relevant_search_results)\n",
    "print('-'*50)"
   ]
  },
  {
   "cell_type": "code",
   "execution_count": null,
   "metadata": {},
   "outputs": [],
   "source": [
    "qa_prompt = f'''{anthropic.HUMAN_PROMPT} You are a friendly product recommender. Here is a query issued by a user looking for product recommendations:\n",
    "\n",
    "{query}\n",
    "\n",
    "Here are a set of search results that might be helpful for answering the user's query:\n",
    "\n",
    "{relevant_search_results}\n",
    "\n",
    "Once again, here is the user's query:\n",
    "\n",
    "<query>{query}</query>\n",
    "\n",
    "Please write a response to the user that answers their query and provides them with helpful product recommendations. Feel free to use the search results above to help you write your response, or ignore them if they are not helpful.\n",
    "\n",
    "At the end of your response, under \"Products you might like:\", list the top 3 product names from the search results that you think the user would most like.\n",
    "\n",
    "Please ensure your results are in the following format:\n",
    "\n",
    "<result>\n",
    "Your response to the user's query.\n",
    "</result>\n",
    "<recommendations>\n",
    "Products you might like:\n",
    "1. Product name\n",
    "2. Product name\n",
    "3. Product name\n",
    "</recommendations>{anthropic.AI_PROMPT}'''\n",
    "\n",
    "response = client.completions.create(\n",
    "    prompt=qa_prompt,\n",
    "    stop_sequences=[anthropic.HUMAN_PROMPT],\n",
    "    model=ANTHROPIC_SEARCH_MODEL,\n",
    "    max_tokens_to_sample=1000,\n",
    ")\n",
    "\n",
    "print('-'*50)\n",
    "print('Response:')\n",
    "print(response.completion)\n",
    "print('-'*50)"
   ]
  }
 ],
 "metadata": {
  "kernelspec": {
   "display_name": "Python 3 (ipykernel)",
   "language": "python",
   "name": "python3"
  },
  "language_info": {
   "codemirror_mode": {
    "name": "ipython",
    "version": 3
   },
   "file_extension": ".py",
   "mimetype": "text/x-python",
   "name": "python",
   "nbconvert_exporter": "python",
   "pygments_lexer": "ipython3",
   "version": "3.10.11"
  },
  "orig_nbformat": 4
 },
 "nbformat": 4,
 "nbformat_minor": 2
}
