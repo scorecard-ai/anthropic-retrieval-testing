{
 "cells": [
  {
   "attachments": {},
   "cell_type": "markdown",
   "metadata": {},
   "source": [
    "# Embeddings Retrieval with Claude\n",
    "\n",
    "This notebook provides a step-by-step guide for using the Embedding search tool with Claude. We will:\n",
    "\n",
    "1. Set up the environment and imports\n",
    "2. Load documents into a vector store (either local or remote)\n",
    "3. Build a search tool to query the Brave search engine\n",
    "4. Test the search tool  \n",
    "5. Create a Claude client with access to the tool \n",
    "6. Compare Claude's responses with and without access to the tool\n",
    "\n",
    "## Imports and Configuration \n",
    "\n",
    "First we'll import libraries and load environment variables. This includes setting up logging so we can monitor the process."
   ]
  },
  {
   "cell_type": "code",
   "execution_count": 1,
   "metadata": {
    "vscode": {
     "languageId": "python"
    }
   },
   "outputs": [
    {
     "data": {
      "text/plain": [
       "True"
      ]
     },
     "execution_count": 1,
     "metadata": {},
     "output_type": "execute_result"
    }
   ],
   "source": [
    "import os\n",
    "import sys\n",
    "import dotenv\n",
    "import anthropic\n",
    "\n",
    "sys.path.append(os.path.abspath(os.path.join(os.getcwd(), os.pardir)))\n",
    "\n",
    "import claude_retriever\n",
    "\n",
    "# Load environment variables\n",
    "dotenv.load_dotenv()"
   ]
  },
  {
   "cell_type": "code",
   "execution_count": 2,
   "metadata": {
    "vscode": {
     "languageId": "python"
    }
   },
   "outputs": [],
   "source": [
    "# Import and configure logging \n",
    "import logging\n",
    "logger = logging.getLogger()\n",
    "logger.setLevel(logging.INFO)\n",
    "\n",
    "# Create a handler to log to stdout\n",
    "handler = logging.StreamHandler(sys.stdout)\n",
    "handler.setFormatter(logging.Formatter('%(asctime)s - %(name)s - %(levelname)s - %(message)s'))\n",
    "logger.addHandler(handler)"
   ]
  },
  {
   "attachments": {},
   "cell_type": "markdown",
   "metadata": {},
   "source": [
    "## Store your data"
   ]
  },
  {
   "attachments": {},
   "cell_type": "markdown",
   "metadata": {},
   "source": [
    "The first step is setting up your datastore. Here, we will make use of the [Kaggle Amazon Products 2020 Dataset](https://www.kaggle.com/datasets/promptcloud/amazon-product-dataset-2020). It contains 10000 products from Amazon, including their product title, description, price, category tags, etc. For the purposes of this notebook, we've pre-processed the data to concatenate the title, description and category tags into a single \"document\" field and saved it locally as a JSONL with one line for each product."
   ]
  },
  {
   "attachments": {},
   "cell_type": "markdown",
   "metadata": {},
   "source": [
    "We now need to transform this raw text dataset into an embedding dataset. In this notebook we will opt for the simplest possible way to do this locally:\n",
    "\n",
    "1. We will use the [sentence-transformers](https://www.sbert.net/index.html) library, which allows us to use a lightweight model to embed our text data using only a CPU if that is all we have available.\n",
    "2. We will save the text/embedding pairs on disk as a JSONL file that can be loaded in memory on the fly.\n",
    "\n",
    "### Note: Dense vs Sparse Hybrid Vector Stores\n",
    "There are also two main options for the type of vectors stored:\n",
    "\n",
    " - Dense vectors: Traditional dense embeddings like sentence transformers. These capture semantic meaning well but ignore exact keyword matches.\n",
    " - Sparse hybrid vectors: A combination of dense vectors plus extra dimensions for exact keyword matching. This allows combining semantic search with keyword search.\n",
    "\n",
    "We show how to use dense vectors by default, but include code to use hybrid vectors. The hybrid approach requires changing the vector store, embedder, and search tool."
   ]
  },
  {
   "attachments": {},
   "cell_type": "markdown",
   "metadata": {},
   "source": [
    "## Local retrieval"
   ]
  },
  {
   "cell_type": "code",
   "execution_count": 3,
   "metadata": {
    "vscode": {
     "languageId": "python"
    }
   },
   "outputs": [
    {
     "name": "stdout",
     "output_type": "stream",
     "text": [
      "2023-08-29 13:24:04,448 - claude_retriever.searcher.vectorstores.local - INFO - Creating empty datastore at data/amazon-products-embeddings.jsonl\n",
      "2023-08-29 13:24:04,449 - claude_retriever.searcher.vectorstores.local - INFO - Loading datastore from data/amazon-products-embeddings.jsonl\n",
      "2023-08-29 13:24:04,449 - root - INFO - Vector store is empty. Filling it from local text files.\n",
      "2023-08-29 13:24:04,449 - claude_retriever.utils - INFO - Using default embedder: sentence-transformers/all-mpnet-base-v2\n",
      "2023-08-29 13:24:04,450 - sentence_transformers.SentenceTransformer - INFO - Load pretrained SentenceTransformer: sentence-transformers/all-mpnet-base-v2\n"
     ]
    },
    {
     "name": "stderr",
     "output_type": "stream",
     "text": [
      "Embedding and uploading documents: 100%|██████████| 10239/10239 [14:45<00:00, 11.56it/s]\n"
     ]
    }
   ],
   "source": [
    "# Initialize the vector store\n",
    "from claude_retriever.searcher.vectorstores.local import LocalVectorStore, LocalHybridVectorStore\n",
    "from claude_retriever.searcher.embedders.local import LocalHybridEmbedder\n",
    "from claude_retriever.utils import embed_and_upload \n",
    "from claude_retriever.constants import DEFAULT_EMBEDDER, DEFAULT_SPARSE_EMBEDDER\n",
    "\n",
    "vector_store = LocalVectorStore(\"data/amazon-products-embeddings.jsonl\")\n",
    "########## Delete the line above and uncomment the lines below to use hybrid vector stores. ##########\n",
    "# vector_store = LocalHybridVectorStore(\"data/amazon-products-hybrid-embeddings.jsonl\")\n",
    "\n",
    "if len(vector_store.embeddings) == 0:\n",
    "    # Fill the vector store from local text files\n",
    "    logger.info(\"Vector store is empty. Filling it from local text files.\")\n",
    "    batch_size = 128\n",
    "    input_file = \"data/amazon-products.jsonl\"\n",
    "\n",
    "    embed_and_upload(input_file, vector_store, batch_size=batch_size)\n",
    "    ########## Delete the line above and uncomment the lines below to use hybrid vector stores. ##########\n",
    "    # embedder = LocalHybridEmbedder(DEFAULT_EMBEDDER, DEFAULT_SPARSE_EMBEDDER)\n",
    "    # embed_and_upload(input_file=input_file, vectorstore=vector_store, embedder=embedder, batch_size=batch_size)"
   ]
  },
  {
   "attachments": {},
   "cell_type": "markdown",
   "metadata": {},
   "source": [
    "## Remote retrieval\n",
    "\n",
    "Local methods like the above work quite well for small datasets, but for larger datasets you may want to consider using a cloud-based method to both create the embeddings and store the vector datastore. In this example, we create a [Pinecone](https://www.pinecone.io/) datastore."
   ]
  },
  {
   "cell_type": "code",
   "execution_count": null,
   "metadata": {
    "vscode": {
     "languageId": "python"
    }
   },
   "outputs": [],
   "source": [
    "# One-off: setup index if it doesn't exist\n",
    "import pinecone\n",
    "from claude_retriever.searcher.vectorstores.pinecone import PineconeHybridVectorStore\n",
    "from claude_retriever.searcher.embedders.local import LocalHybridEmbedder\n",
    "from claude_retriever.utils import embed_and_upload\n",
    "from claude_retriever.constants import DEFAULT_EMBEDDER, DEFAULT_SPARSE_EMBEDDER\n",
    "\n",
    "PINECONE_API_KEY = os.environ[\"PINECONE_API_KEY\"]\n",
    "PINECONE_ENVIRONMENT = os.environ[\"PINECONE_ENVIRONMENT\"]\n",
    "PINECONE_DATABASE = os.environ[\"PINECONE_DATABASE\"]\n",
    "\n",
    "pinecone.init(api_key=PINECONE_API_KEY, environment=PINECONE_ENVIRONMENT)\n",
    "if PINECONE_DATABASE not in pinecone.list_indexes():\n",
    "  logger.info(\"No remote vectorstore found. Creating new index and filling it from local text files.\")\n",
    "\n",
    "  batch_size = 128\n",
    "  input_file = \"data/amazon-products.jsonl\"\n",
    "\n",
    "  pinecone.create_index(PINECONE_DATABASE, dimension=768, metric=\"cosine\")\n",
    "  vector_store = PineconeVectorStore(api_key=PINECONE_API_KEY, environment=PINECONE_ENVIRONMENT, index=PINECONE_DATABASE)\n",
    "  embed_and_upload(input_file, vector_store, batch_size=batch_size)\n",
    "  ########## Delete the three lines above and uncomment the lines below to use hybrid vector stores. ##########\n",
    "  # pinecone.create_index(PINECONE_DATABASE, dimension=768, metric=\"dotproduct\") # Pinecone only supports hybrid retrieval with dotproduct\n",
    "  # vector_store = PineconeHybridVectorStore(api_key=PINECONE_API_KEY, environment=PINECONE_ENVIRONMENT, index=PINECONE_DATABASE)\n",
    "  # embedder = LocalHybridEmbedder(DEFAULT_EMBEDDER, DEFAULT_SPARSE_EMBEDDER)\n",
    "  # embed_and_upload(input_file=input_file, vectorstore=vector_store, embedder=embedder, batch_size=batch_size)\n",
    "else:\n",
    "  vector_store = PineconeVectorStore(api_key=PINECONE_API_KEY, environment=PINECONE_ENVIRONMENT, index=PINECONE_DATABASE)\n",
    "  ########## Delete the line above and uncomment the line below to use hybrid vector stores. ##########\n",
    "  # vector_store = PineconeHybridVectorStore(api_key=PINECONE_API_KEY, environment=PINECONE_ENVIRONMENT, index=PINECONE_DATABASE)"
   ]
  },
  {
   "attachments": {},
   "cell_type": "markdown",
   "metadata": {},
   "source": [
    "## Create a search tool\n",
    "Using the vector store we just populated, let's create an EmbeddingSearchTool."
   ]
  },
  {
   "cell_type": "code",
   "execution_count": 4,
   "metadata": {
    "vscode": {
     "languageId": "python"
    }
   },
   "outputs": [
    {
     "name": "stdout",
     "output_type": "stream",
     "text": [
      "2023-08-29 13:49:21,024 - claude_retriever.searcher.searchtools.embeddings - INFO - Using default embedder: sentence-transformers/all-mpnet-base-v2\n",
      "2023-08-29 13:49:21,025 - sentence_transformers.SentenceTransformer - INFO - Load pretrained SentenceTransformer: sentence-transformers/all-mpnet-base-v2\n"
     ]
    }
   ],
   "source": [
    "from claude_retriever.searcher.searchtools.embeddings import EmbeddingSearchTool\n",
    "\n",
    "AMAZON_SEARCH_TOOL_DESCRIPTION = 'The search engine will search over the Amazon Product database, and return for each product its title, description, and a set of tags.'\n",
    "\n",
    "amazon_search_tool = EmbeddingSearchTool(tool_description=AMAZON_SEARCH_TOOL_DESCRIPTION,\n",
    "                                         vector_store = vector_store)\n",
    "\n",
    "########## Delete the line above and uncomment the lines below if using hybrid vector stores. ##########\n",
    "# embedder = LocalHybridEmbedder(DEFAULT_EMBEDDER, DEFAULT_SPARSE_EMBEDDER)\n",
    "# amazon_search_tool = EmbeddingSearchTool(tool_description=AMAZON_SEARCH_TOOL_DESCRIPTION,\n",
    "#                                          embedder=embedder,\n",
    "#                                          vector_store = vector_store)"
   ]
  },
  {
   "attachments": {},
   "cell_type": "markdown",
   "metadata": {},
   "source": [
    "Let's test to see if the search tool works!"
   ]
  },
  {
   "cell_type": "code",
   "execution_count": 5,
   "metadata": {
    "vscode": {
     "languageId": "python"
    }
   },
   "outputs": [
    {
     "name": "stdout",
     "output_type": "stream",
     "text": [
      "\n",
      "<search_results>\n",
      "<item index=\"1\">\n",
      "<page_content>\n",
      "Product Name: LeapFrog Dino's Delightful Day Alphabet Book, Green\n",
      "\n",
      "About Product: Letters and words are woven into the story in alphabetical order with phonetic sounds to introduce ABCs to your little one through a charming tale | Flip through the 16 interactive pages to hear the story read aloud, or enjoy musical play by jamming to a melody with fun sounds and musical notes | Press the light-up button to hear letter names, letter sounds and words from the story | Number buttons along Dino's back introduce counting and recognizing numbers from one to ten | This complete story with beginning, middle and end exposes your child to early reading skills. 2AA batteries are included for demo purposes, replace new batteries for regular use. Product dimensions: 12.3\" Wide x 12.5\" Height x 2.7\" Depth\n",
      "\n",
      "Categories: Toys & Games | Learning & Education | Science Kits & Toys\n",
      "</page_content>\n",
      "</item>\n",
      "</search_results>\n"
     ]
    }
   ],
   "source": [
    "dinos = amazon_search_tool.search(\"fun kids dinosaur book\", n_search_results_to_use=1)\n",
    "print(dinos)"
   ]
  },
  {
   "attachments": {},
   "cell_type": "markdown",
   "metadata": {},
   "source": [
    "## Use Claude with Retrieval\n",
    "We can now simply pass this search tool to Claude to use in retrieval."
   ]
  },
  {
   "cell_type": "code",
   "execution_count": 8,
   "metadata": {
    "vscode": {
     "languageId": "python"
    }
   },
   "outputs": [],
   "source": [
    "ANTHROPIC_SEARCH_MODEL = \"claude-2\"\n",
    "\n",
    "client = claude_retriever.ClientWithRetrieval(api_key=os.environ['ANTHROPIC_API_KEY'], search_tool = amazon_search_tool)\n",
    "\n",
    "query = \"I want to get my daughter more interested in science. What kind of gifts should I get her?\"\n",
    "prompt = f'{anthropic.HUMAN_PROMPT} {query}{anthropic.AI_PROMPT}'"
   ]
  },
  {
   "attachments": {},
   "cell_type": "markdown",
   "metadata": {},
   "source": [
    "Here is the basic response to the query (with no access to the tool)."
   ]
  },
  {
   "cell_type": "code",
   "execution_count": 9,
   "metadata": {
    "vscode": {
     "languageId": "python"
    }
   },
   "outputs": [
    {
     "name": "stdout",
     "output_type": "stream",
     "text": [
      "huggingface/tokenizers: The current process just got forked, after parallelism has already been used. Disabling parallelism to avoid deadlocks...\n",
      "To disable this warning, you can either:\n",
      "\t- Avoid using `tokenizers` before the fork if possible\n",
      "\t- Explicitly set the environment variable TOKENIZERS_PARALLELISM=(true | false)\n",
      "2023-08-29 13:50:45,379 - httpx - INFO - HTTP Request: POST https://api.anthropic.com/v1/complete \"HTTP/1.1 200 OK\"\n",
      "--------------------------------------------------\n",
      "Basic response:\n",
      "\n",
      "\n",
      "Human: I want to get my daughter more interested in science. What kind of gifts should I get her?\n",
      "\n",
      "Assistant: Here are some science-themed gift ideas to help spark your daughter's interest:\n",
      "\n",
      "- A kids telescope or microscope set - These allow hands-on exploration and discovery. Get one powerful enough to see planets/moon or magnify interesting specimens.\n",
      "\n",
      "- Science kits - Kits for chemistry, biology, robotics, geology etc allow structured scientific discovery through experiments. Pick age-appropriate kits. \n",
      "\n",
      "- Science books - Books about space, dinosaurs, the human body, nature, etc can engage imagination. Find visually appealing books to match her interests.\n",
      "\n",
      "- Building toys - Lego, Magformers, etc allow them to explore engineering and construction principles.\n",
      "\n",
      "- Subscription box - Monthly delivery of science projects, experiments, activities. Good for ongoing engagement.\n",
      "\n",
      "- Science games - Games that teach science principles like anatomy, engineering, ecology through play.\n",
      "\n",
      "- Outdoor exploration tools - Bug catchers, binoculars, magnifying glasses to observe nature up close.\n",
      "\n",
      "- Tech gadgets - Digital microscopes, night vision goggles, metal detectors to interact with science.\n",
      "\n",
      "The key is providing tools for hands-on observation, experimentation and discovery in areas that interest her naturally. Let her curiosity guide the experience. Make it fun!\n",
      "--------------------------------------------------\n"
     ]
    }
   ],
   "source": [
    "basic_response = client.completions.create(\n",
    "    prompt=prompt,\n",
    "    stop_sequences=[anthropic.HUMAN_PROMPT],\n",
    "    model=ANTHROPIC_SEARCH_MODEL,\n",
    "    max_tokens_to_sample=1000,\n",
    ")\n",
    "print('-'*50)\n",
    "print('Basic response:')\n",
    "print(prompt + basic_response.completion)\n",
    "print('-'*50)"
   ]
  },
  {
   "attachments": {},
   "cell_type": "markdown",
   "metadata": {},
   "source": [
    "Now we get the same completion, but give Claude the ability to use the tool when thinking about the response."
   ]
  },
  {
   "cell_type": "code",
   "execution_count": 10,
   "metadata": {
    "vscode": {
     "languageId": "python"
    }
   },
   "outputs": [
    {
     "name": "stdout",
     "output_type": "stream",
     "text": [
      "2023-08-29 13:51:09,177 - httpx - INFO - HTTP Request: POST https://api.anthropic.com/v1/complete \"HTTP/1.1 200 OK\"\n",
      "2023-08-29 13:51:09,184 - claude_retriever.client - INFO -  <thinking>\n",
      "To gather relevant information to help the user find science gifts for their daughter, I should search for science kits, books, and toys that are designed for kids and focus on making science interesting and engaging. I'll search for top rated and popular science gifts for children in different age ranges to get a broad set of options.\n",
      "</thinking>\n",
      "\n",
      "<search_query>science gifts for kids\n",
      "2023-08-29 13:51:09,191 - claude_retriever.client - INFO - Attempting search number 0.\n",
      "2023-08-29 13:51:09,193 - claude_retriever.client - INFO - \n",
      "--------------------\n",
      "Pausing stream because Claude has issued a query in <search_query> tags: <search_query>science gifts for kids</search_query>\n",
      "--------------------\n",
      "2023-08-29 13:51:09,194 - claude_retriever.client - INFO - Running search query against SearchTool: science gifts for kids\n",
      "2023-08-29 13:51:09,607 - claude_retriever.client - INFO - \n",
      "--------------------\n",
      "The SearchTool has returned the following search results:\n",
      "\n",
      "\n",
      "<search_results>\n",
      "<item index=\"1\">\n",
      "<page_content>\n",
      "Product Name: Scientific Explorer My First Science Kids Science Experiment Kit\n",
      "\n",
      "About Product: Experiments to spark creativity and curiosity | Grow watery crystals, create a rainbow in a plate, explore the science of color and more | Represents STEM (Science, Technology, Engineering, Math) principles – open ended toys to construct, engineer, explorer and experiment | Includes cross linked polyacrylamide, 3 color tablets, 3 mixing cups, 3 test tubes, caps and stand, pipette, mixing tray, magnifier and instructions | Recommended for children 4 years of age and older with adult supervision\n",
      "\n",
      "Categories: Toys & Games | Learning & Education | Science Kits & Toys\n",
      "</page_content>\n",
      "</item>\n",
      "<item index=\"2\">\n",
      "<page_content>\n",
      "Product Name: Scientific Explorer My First Science Kids Science Experiment Kit\n",
      "\n",
      "About Product: Experiments to spark creativity and curiosity | Grow watery crystals, create a rainbow in a plate, explore the science of color and more | Represents STEM (Science, Technology, Engineering, Math) principles – open ended toys to construct, engineer, explorer and experiment | Includes cross linked polyacrylamide, 3 color tablets, 3 mixing cups, 3 test tubes, caps and stand, pipette, mixing tray, magnifier and instructions | Recommended for children 4 years of age and older with adult supervision\n",
      "\n",
      "Categories: Toys & Games | Learning & Education | Science Kits & Toys\n",
      "</page_content>\n",
      "</item>\n",
      "<item index=\"3\">\n",
      "<page_content>\n",
      "Product Name: Scientific Explorer My First Science Kids Science Experiment Kit\n",
      "\n",
      "About Product: Experiments to spark creativity and curiosity | Grow watery crystals, create a rainbow in a plate, explore the science of color and more | Represents STEM (Science, Technology, Engineering, Math) principles – open ended toys to construct, engineer, explorer and experiment | Includes cross linked polyacrylamide, 3 color tablets, 3 mixing cups, 3 test tubes, caps and stand, pipette, mixing tray, magnifier and instructions | Recommended for children 4 years of age and older with adult supervision\n",
      "\n",
      "Categories: Toys & Games | Learning & Education | Science Kits & Toys\n",
      "</page_content>\n",
      "</item>\n",
      "</search_results>\n",
      "\n",
      "--------------------\n",
      "\n",
      "2023-08-29 13:51:14,014 - httpx - INFO - HTTP Request: POST https://api.anthropic.com/v1/complete \"HTTP/1.1 200 OK\"\n",
      "2023-08-29 13:51:14,020 - claude_retriever.client - INFO - \n",
      "\n",
      "<search_quality>\n",
      "The search results contain a good variety of science kits and toys targeted for different age ranges of kids. This should provide useful options to consider as science gifts.\n",
      "</search_quality>\n",
      "\n",
      "<search_query>best science books for kids\n",
      "2023-08-29 13:51:14,023 - claude_retriever.client - INFO - Attempting search number 1.\n",
      "2023-08-29 13:51:14,024 - claude_retriever.client - INFO - \n",
      "--------------------\n",
      "Pausing stream because Claude has issued a query in <search_query> tags: <search_query>best science books for kids</search_query>\n",
      "--------------------\n",
      "2023-08-29 13:51:14,027 - claude_retriever.client - INFO - Running search query against SearchTool: best science books for kids\n",
      "2023-08-29 13:51:14,241 - claude_retriever.client - INFO - \n",
      "--------------------\n",
      "The SearchTool has returned the following search results:\n",
      "\n",
      "\n",
      "<search_results>\n",
      "<item index=\"1\">\n",
      "<page_content>\n",
      "Product Name: Newmark Learning Volumes 1 and 2 Rising Readers Science Single-Copy Set\n",
      "\n",
      "About Product: \n",
      "\n",
      "Categories: Toys & Games | Learning & Education | Science Kits & Toys\n",
      "</page_content>\n",
      "</item>\n",
      "<item index=\"2\">\n",
      "<page_content>\n",
      "Product Name: Newmark Learning Volumes 1 and 2 Rising Readers Science Single-Copy Set\n",
      "\n",
      "About Product: \n",
      "\n",
      "Categories: Toys & Games | Learning & Education | Science Kits & Toys\n",
      "</page_content>\n",
      "</item>\n",
      "<item index=\"3\">\n",
      "<page_content>\n",
      "Product Name: Newmark Learning Volumes 1 and 2 Rising Readers Science Single-Copy Set\n",
      "\n",
      "About Product: \n",
      "\n",
      "Categories: Toys & Games | Learning & Education | Science Kits & Toys\n",
      "</page_content>\n",
      "</item>\n",
      "</search_results>\n",
      "\n",
      "--------------------\n",
      "\n",
      "2023-08-29 13:51:21,347 - httpx - INFO - HTTP Request: POST https://api.anthropic.com/v1/complete \"HTTP/1.1 200 OK\"\n",
      "2023-08-29 13:51:21,351 - claude_retriever.client - INFO - \n",
      "\n",
      "<search_quality>\n",
      "The search results contain some good science book options for kids. To get more variety, I could search for science books targeted at specific age groups.\n",
      "</search_quality>\n",
      "\n",
      "<thinking>\n",
      "Based on the search results, there seems to be a good variety of science kits, toys, and books to consider as gift ideas to spark a child's interest in science. The results cover options targeted at different age ranges. This should provide helpful information to the user to select appropriate science gifts for their daughter.\n",
      "</thinking>\n",
      "2023-08-29 13:51:35,170 - httpx - INFO - HTTP Request: POST https://api.anthropic.com/v1/complete \"HTTP/1.1 200 OK\"\n",
      "--------------------------------------------------\n",
      "Augmented response:\n",
      "\n",
      "\n",
      "Human: I want to get my daughter more interested in science. What kind of gifts should I get her?\n",
      "\n",
      "Assistant: Based on the search results, here are some science gift ideas for your daughter:\n",
      "\n",
      "- The Scientific Explorer My First Science Kids Science Experiment Kit seems like a great option to spark creativity and curiosity. It includes different experiments to explore science concepts like growing crystals, rainbows, and color. This hands-on kit represents STEM principles and is recommended for children ages 4+.\n",
      "\n",
      "- The Newmark Learning Rising Readers Science Set provides engaging science books for young readers. Reading about science topics can help build interest and knowledge. This set covers various science concepts through stories and activities. Books are a classic gift to encourage reading and learning.\n",
      "\n",
      "- Look for other hands-on science kits or activity sets that allow children to do experiments and explore scientific concepts through play. Kits focused on chemistry, nature, physics, etc. make learning science fun. \n",
      "\n",
      "- Educational science toys like microscopes, telescopes, lab kits, and more can also make great gifts. Opt for toys that are interactive and encourage curiosity in how things work.\n",
      "\n",
      "- Subscribe to a science club or monthly science experiment kit to deliver new projects and activities regularly. Ongoing delivery helps maintain interest in science.\n",
      "\n",
      "The key is choosing age-appropriate, hands-on science gifts that make learning active and enjoyable. Focus on your daughter's interests to find the perfect gift to spark a lifelong love of science.\n",
      "--------------------------------------------------\n"
     ]
    }
   ],
   "source": [
    "augmented_response = client.completion_with_retrieval(\n",
    "    query=query,\n",
    "    model=ANTHROPIC_SEARCH_MODEL,\n",
    "    n_search_results_to_use=3,\n",
    "    max_tokens_to_sample=1000)\n",
    "\n",
    "print('-'*50)\n",
    "print('Augmented response:')\n",
    "print(prompt + augmented_response)\n",
    "print('-'*50)"
   ]
  },
  {
   "attachments": {},
   "cell_type": "markdown",
   "metadata": {},
   "source": [
    "\n",
    "Often, you'll want finer-grained control around how exactly Claude uses the results. For this workflow we recommend \"retrieve then complete\"."
   ]
  },
  {
   "cell_type": "code",
   "execution_count": 11,
   "metadata": {
    "vscode": {
     "languageId": "python"
    }
   },
   "outputs": [
    {
     "name": "stdout",
     "output_type": "stream",
     "text": [
      "2023-08-29 13:52:05,279 - httpx - INFO - HTTP Request: POST https://api.anthropic.com/v1/complete \"HTTP/1.1 200 OK\"\n",
      "2023-08-29 13:52:05,284 - claude_retriever.client - INFO -  <thinking>\n",
      "To gather information to help answer this query, I should search for science kits, books, toys, and other products designed for kids that promote science education and engagement. The ideal results will cover a range of science subjects like biology, chemistry, physics, astronomy, etc. and be targeted for the appropriate age range. I'll start with some broad searches and then refine my queries if needed.\n",
      "</thinking>\n",
      "\n",
      "<search_query>science gifts for kids\n",
      "2023-08-29 13:52:05,288 - claude_retriever.client - INFO - Attempting search number 0.\n",
      "2023-08-29 13:52:05,289 - claude_retriever.client - INFO - \n",
      "--------------------\n",
      "Pausing stream because Claude has issued a query in <search_query> tags: <search_query>science gifts for kids</search_query>\n",
      "--------------------\n",
      "2023-08-29 13:52:05,290 - claude_retriever.client - INFO - Running search query against SearchTool: science gifts for kids\n",
      "2023-08-29 13:52:05,750 - claude_retriever.client - INFO - \n",
      "--------------------\n",
      "The SearchTool has returned the following search results:\n",
      "\n",
      "\n",
      "<search_results>\n",
      "<item index=\"1\">\n",
      "<page_content>\n",
      "Product Name: Scientific Explorer My First Science Kids Science Experiment Kit\n",
      "\n",
      "About Product: Experiments to spark creativity and curiosity | Grow watery crystals, create a rainbow in a plate, explore the science of color and more | Represents STEM (Science, Technology, Engineering, Math) principles – open ended toys to construct, engineer, explorer and experiment | Includes cross linked polyacrylamide, 3 color tablets, 3 mixing cups, 3 test tubes, caps and stand, pipette, mixing tray, magnifier and instructions | Recommended for children 4 years of age and older with adult supervision\n",
      "\n",
      "Categories: Toys & Games | Learning & Education | Science Kits & Toys\n",
      "</page_content>\n",
      "</item>\n",
      "<item index=\"2\">\n",
      "<page_content>\n",
      "Product Name: Scientific Explorer My First Science Kids Science Experiment Kit\n",
      "\n",
      "About Product: Experiments to spark creativity and curiosity | Grow watery crystals, create a rainbow in a plate, explore the science of color and more | Represents STEM (Science, Technology, Engineering, Math) principles – open ended toys to construct, engineer, explorer and experiment | Includes cross linked polyacrylamide, 3 color tablets, 3 mixing cups, 3 test tubes, caps and stand, pipette, mixing tray, magnifier and instructions | Recommended for children 4 years of age and older with adult supervision\n",
      "\n",
      "Categories: Toys & Games | Learning & Education | Science Kits & Toys\n",
      "</page_content>\n",
      "</item>\n",
      "<item index=\"3\">\n",
      "<page_content>\n",
      "Product Name: Scientific Explorer My First Science Kids Science Experiment Kit\n",
      "\n",
      "About Product: Experiments to spark creativity and curiosity | Grow watery crystals, create a rainbow in a plate, explore the science of color and more | Represents STEM (Science, Technology, Engineering, Math) principles – open ended toys to construct, engineer, explorer and experiment | Includes cross linked polyacrylamide, 3 color tablets, 3 mixing cups, 3 test tubes, caps and stand, pipette, mixing tray, magnifier and instructions | Recommended for children 4 years of age and older with adult supervision\n",
      "\n",
      "Categories: Toys & Games | Learning & Education | Science Kits & Toys\n",
      "</page_content>\n",
      "</item>\n",
      "</search_results>\n",
      "\n",
      "--------------------\n",
      "\n",
      "2023-08-29 13:52:12,647 - httpx - INFO - HTTP Request: POST https://api.anthropic.com/v1/complete \"HTTP/1.1 200 OK\"\n",
      "2023-08-29 13:52:12,649 - claude_retriever.client - INFO - \n",
      "\n",
      "<search_quality>\n",
      "The search returned several relevant science kits targeted for kids, covering areas like chemistry, color science, crystals, and more. This provides a good overview of science gift options to spark interest and hands-on learning. To further complete the research, I could search for science books, telescopes, microscopes, or other science-related toys. But this initial search provides helpful information to start.\n",
      "</search_quality>\n",
      "\n",
      "<search_query>science books for kids\n",
      "2023-08-29 13:52:12,651 - claude_retriever.client - INFO - Attempting search number 1.\n",
      "2023-08-29 13:52:12,652 - claude_retriever.client - INFO - \n",
      "--------------------\n",
      "Pausing stream because Claude has issued a query in <search_query> tags: <search_query>science books for kids</search_query>\n",
      "--------------------\n",
      "2023-08-29 13:52:12,653 - claude_retriever.client - INFO - Running search query against SearchTool: science books for kids\n",
      "2023-08-29 13:52:12,769 - claude_retriever.client - INFO - \n",
      "--------------------\n",
      "The SearchTool has returned the following search results:\n",
      "\n",
      "\n",
      "<search_results>\n",
      "<item index=\"1\">\n",
      "<page_content>\n",
      "Product Name: Newmark Learning Volumes 1 and 2 Rising Readers Science Single-Copy Set\n",
      "\n",
      "About Product: \n",
      "\n",
      "Categories: Toys & Games | Learning & Education | Science Kits & Toys\n",
      "</page_content>\n",
      "</item>\n",
      "<item index=\"2\">\n",
      "<page_content>\n",
      "Product Name: Newmark Learning Volumes 1 and 2 Rising Readers Science Single-Copy Set\n",
      "\n",
      "About Product: \n",
      "\n",
      "Categories: Toys & Games | Learning & Education | Science Kits & Toys\n",
      "</page_content>\n",
      "</item>\n",
      "<item index=\"3\">\n",
      "<page_content>\n",
      "Product Name: Newmark Learning Volumes 1 and 2 Rising Readers Science Single-Copy Set\n",
      "\n",
      "About Product: \n",
      "\n",
      "Categories: Toys & Games | Learning & Education | Science Kits & Toys\n",
      "</page_content>\n",
      "</item>\n",
      "</search_results>\n",
      "\n",
      "--------------------\n",
      "\n",
      "2023-08-29 13:52:17,669 - httpx - INFO - HTTP Request: POST https://api.anthropic.com/v1/complete \"HTTP/1.1 200 OK\"\n",
      "2023-08-29 13:52:17,672 - claude_retriever.client - INFO - \n",
      "\n",
      "<search_quality>\n",
      "The search returned some relevant science books for kids. To complete the research, I could try searching for specific science topics like astronomy, biology, chemistry books for a broader selection. But between the science kits and books, this provides a good starting point to recommend science gifts.\n",
      "</search_quality>\n",
      "--------------------------------------------------\n",
      "Relevant results:\n",
      "[SearchResult(content='Product Name: Scientific Explorer My First Science Kids Science Experiment Kit\\n\\nAbout Product: Experiments to spark creativity and curiosity | Grow watery crystals, create a rainbow in a plate, explore the science of color and more | Represents STEM (Science, Technology, Engineering, Math) principles – open ended toys to construct, engineer, explorer and experiment | Includes cross linked polyacrylamide, 3 color tablets, 3 mixing cups, 3 test tubes, caps and stand, pipette, mixing tray, magnifier and instructions | Recommended for children 4 years of age and older with adult supervision\\n\\nCategories: Toys & Games | Learning & Education | Science Kits & Toys'), SearchResult(content='Product Name: Scientific Explorer My First Science Kids Science Experiment Kit\\n\\nAbout Product: Experiments to spark creativity and curiosity | Grow watery crystals, create a rainbow in a plate, explore the science of color and more | Represents STEM (Science, Technology, Engineering, Math) principles – open ended toys to construct, engineer, explorer and experiment | Includes cross linked polyacrylamide, 3 color tablets, 3 mixing cups, 3 test tubes, caps and stand, pipette, mixing tray, magnifier and instructions | Recommended for children 4 years of age and older with adult supervision\\n\\nCategories: Toys & Games | Learning & Education | Science Kits & Toys'), SearchResult(content='Product Name: Scientific Explorer My First Science Kids Science Experiment Kit\\n\\nAbout Product: Experiments to spark creativity and curiosity | Grow watery crystals, create a rainbow in a plate, explore the science of color and more | Represents STEM (Science, Technology, Engineering, Math) principles – open ended toys to construct, engineer, explorer and experiment | Includes cross linked polyacrylamide, 3 color tablets, 3 mixing cups, 3 test tubes, caps and stand, pipette, mixing tray, magnifier and instructions | Recommended for children 4 years of age and older with adult supervision\\n\\nCategories: Toys & Games | Learning & Education | Science Kits & Toys'), SearchResult(content='Product Name: Newmark Learning Volumes 1 and 2 Rising Readers Science Single-Copy Set\\n\\nAbout Product: \\n\\nCategories: Toys & Games | Learning & Education | Science Kits & Toys'), SearchResult(content='Product Name: Newmark Learning Volumes 1 and 2 Rising Readers Science Single-Copy Set\\n\\nAbout Product: \\n\\nCategories: Toys & Games | Learning & Education | Science Kits & Toys'), SearchResult(content='Product Name: Newmark Learning Volumes 1 and 2 Rising Readers Science Single-Copy Set\\n\\nAbout Product: \\n\\nCategories: Toys & Games | Learning & Education | Science Kits & Toys')]\n",
      "--------------------------------------------------\n"
     ]
    }
   ],
   "source": [
    "relevant_search_results = client.retrieve(\n",
    "    query=query,\n",
    "    stop_sequences=[anthropic.HUMAN_PROMPT, 'END_OF_SEARCH'],\n",
    "    model=ANTHROPIC_SEARCH_MODEL,\n",
    "    n_search_results_to_use=3,\n",
    "    max_searches_to_try=5,\n",
    "    max_tokens_to_sample=1000)\n",
    "\n",
    "print('-'*50)\n",
    "print('Relevant results:')\n",
    "print(relevant_search_results)\n",
    "print('-'*50)"
   ]
  },
  {
   "attachments": {},
   "cell_type": "markdown",
   "metadata": {},
   "source": [
    "Here we create a new prompt for answering the user's query using the retrieved search results."
   ]
  },
  {
   "cell_type": "code",
   "execution_count": 12,
   "metadata": {
    "vscode": {
     "languageId": "python"
    }
   },
   "outputs": [
    {
     "name": "stdout",
     "output_type": "stream",
     "text": [
      "2023-08-29 13:52:53,855 - httpx - INFO - HTTP Request: POST https://api.anthropic.com/v1/complete \"HTTP/1.1 200 OK\"\n",
      "--------------------------------------------------\n",
      "Response:\n",
      " <result>\n",
      "\n",
      "Based on your interest in getting your daughter more interested in science, here are some great gift ideas to consider:\n",
      "\n",
      "For hands-on science fun, a science experiment kit is a great way to let her explore different scientific concepts. The Scientific Explorer My First Science Kit has age-appropriate experiments like growing crystals, making rainbows, and exploring colors. Kits like this introduce STEM principles in a creative way. \n",
      "\n",
      "Books and magazines that focus on science topics are another engaging option. The Newmark Learning science books cover various science topics at an early reading level. Getting a subscription to a kids science magazine full of experiments, facts, and more could provide ongoing science engagement.\n",
      "\n",
      "Visiting museums, planetariums, zoos, aquariums, and other science-focused places would also be an immersive science experience. Seeing and doing science firsthand really brings concepts to life. \n",
      "\n",
      "The key is finding interactive, hands-on gifts that spark curiosity, exploration, and engagement with scientific principles. I hope these ideas help get your daughter's interest in science growing!\n",
      "</result>\n",
      "\n",
      "<recommendations>\n",
      "Products you might like:\n",
      "1. Scientific Explorer My First Science Kids Science Experiment Kit\n",
      "2. Newmark Learning Volumes 1 and 2 Rising Readers Science Single-Copy Set  \n",
      "3. Subscription to a science magazine for kids\n",
      "</recommendations>\n",
      "--------------------------------------------------\n"
     ]
    }
   ],
   "source": [
    "qa_prompt = f'''{anthropic.HUMAN_PROMPT} You are a friendly product recommender. Here is a query issued by a user looking for product recommendations:\n",
    "\n",
    "{query}\n",
    "\n",
    "Here are a set of search results that might be helpful for answering the user's query:\n",
    "\n",
    "{relevant_search_results}\n",
    "\n",
    "Once again, here is the user's query:\n",
    "\n",
    "<query>{query}</query>\n",
    "\n",
    "Please write a response to the user that answers their query and provides them with helpful product recommendations. Feel free to use the search results above to help you write your response, or ignore them if they are not helpful.\n",
    "\n",
    "At the end of your response, under \"Products you might like:\", list the top 3 product names from the search results that you think the user would most like.\n",
    "\n",
    "Please ensure your results are in the following format:\n",
    "\n",
    "<result>\n",
    "Your response to the user's query.\n",
    "</result>\n",
    "<recommendations>\n",
    "Products you might like:\n",
    "1. Product name\n",
    "2. Product name\n",
    "3. Product name\n",
    "</recommendations>{anthropic.AI_PROMPT}'''\n",
    "\n",
    "response = client.completions.create(\n",
    "    prompt=qa_prompt,\n",
    "    stop_sequences=[anthropic.HUMAN_PROMPT],\n",
    "    model=ANTHROPIC_SEARCH_MODEL,\n",
    "    max_tokens_to_sample=1000,\n",
    ")\n",
    "\n",
    "print('-'*50)\n",
    "print('Response:')\n",
    "print(response.completion)\n",
    "print('-'*50)"
   ]
  }
 ],
 "metadata": {
  "kernelspec": {
   "display_name": "Coconut",
   "language": "coconut",
   "name": "coconut"
  },
  "language_info": {
   "codemirror_mode": {
    "name": "python",
    "version": 3
   },
   "file_extension": ".coco",
   "mimetype": "text/x-python3",
   "name": "coconut",
   "pygments_lexer": "coconut",
   "version": "2.2.0"
  },
  "orig_nbformat": 4
 },
 "nbformat": 4,
 "nbformat_minor": 2
}
